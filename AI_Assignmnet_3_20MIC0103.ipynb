{
  "nbformat": 4,
  "nbformat_minor": 0,
  "metadata": {
    "colab": {
      "provenance": [],
      "gpuType": "T4"
    },
    "kernelspec": {
      "name": "python3",
      "display_name": "Python 3"
    },
    "language_info": {
      "name": "python"
    },
    "accelerator": "GPU"
  },
  "cells": [
    {
      "cell_type": "markdown",
      "source": [
        "#Assignment 3\n",
        "####Submitted by: Aryan Khare\n",
        "\n",
        "####VIT VELLORE"
      ],
      "metadata": {
        "id": "Xw-8sIumlfPJ"
      }
    },
    {
      "cell_type": "code",
      "execution_count": null,
      "metadata": {
        "id": "JQnyXNn5jvvm"
      },
      "outputs": [],
      "source": [
        "!pip install -q kaggle"
      ]
    },
    {
      "cell_type": "code",
      "source": [
        "! cp kaggle.json ~/.kaggle/\n",
        "! chmod 600 ~/.kaggle/kaggle.json"
      ],
      "metadata": {
        "id": "aVmsr4sPkev5"
      },
      "execution_count": null,
      "outputs": []
    },
    {
      "cell_type": "code",
      "source": [
        "! kaggle datasets download -d akash2907/bird-species-classification"
      ],
      "metadata": {
        "colab": {
          "base_uri": "https://localhost:8080/"
        },
        "id": "KWkUogsOlmvU",
        "outputId": "d92e45ce-2ed6-4fdb-bed4-05c818b95c15"
      },
      "execution_count": null,
      "outputs": [
        {
          "output_type": "stream",
          "name": "stdout",
          "text": [
            "bird-species-classification.zip: Skipping, found more recently modified local copy (use --force to force download)\n"
          ]
        }
      ]
    },
    {
      "cell_type": "code",
      "source": [
        "! unzip -q '/content/bird-species-classification.zip'"
      ],
      "metadata": {
        "id": "SZTLuMM4lzA_",
        "colab": {
          "base_uri": "https://localhost:8080/"
        },
        "outputId": "dbfad78b-818f-4cc7-ab68-fe666d4c6f59"
      },
      "execution_count": null,
      "outputs": [
        {
          "output_type": "stream",
          "name": "stdout",
          "text": [
            "replace test_data/test_data/blasti/DSC_6396.jpg? [y]es, [n]o, [A]ll, [N]one, [r]ename: y\n",
            "replace test_data/test_data/blasti/DSC_6397.jpg? [y]es, [n]o, [A]ll, [N]one, [r]ename: "
          ]
        }
      ]
    },
    {
      "cell_type": "code",
      "source": [
        "from tensorflow.keras.preprocessing.image import ImageDataGenerator\n",
        "import numpy as np\n",
        "from PIL import Image"
      ],
      "metadata": {
        "id": "yV7H3pxwmTQm"
      },
      "execution_count": null,
      "outputs": []
    },
    {
      "cell_type": "code",
      "source": [
        "filepath = \"/content/train_data/train_data/cbrtsh/_D32_10303.jpg\"\n",
        "img = Image.open(filepath)\n",
        "img = np.array(img)\n",
        "img.shape"
      ],
      "metadata": {
        "colab": {
          "base_uri": "https://localhost:8080/"
        },
        "id": "G8LY4UdJV-zk",
        "outputId": "0d1c1d8a-ef10-47f1-a5bc-44264cf0b675"
      },
      "execution_count": null,
      "outputs": [
        {
          "output_type": "execute_result",
          "data": {
            "text/plain": [
              "(1973, 1312, 3)"
            ]
          },
          "metadata": {},
          "execution_count": 8
        }
      ]
    },
    {
      "cell_type": "code",
      "source": [
        "train_generator = ImageDataGenerator(rescale=(1./255), horizontal_flip=True, shear_range = 0.2, zoom_range = 0.4)\n",
        "test_generator = ImageDataGenerator(rescale=(1./255))"
      ],
      "metadata": {
        "id": "bRpPcIzPnGEb"
      },
      "execution_count": null,
      "outputs": []
    },
    {
      "cell_type": "code",
      "source": [
        "train = train_generator.flow_from_directory('/content/train_data/train_data',\n",
        "                                      target_size=(512, 512),\n",
        "                                      class_mode='categorical',\n",
        "                                      batch_size=10)\n",
        "test = test_generator.flow_from_directory('/content/test_data/test_data',\n",
        "                                    target_size=(512, 512),\n",
        "                                      class_mode='categorical',\n",
        "                                      batch_size=10)"
      ],
      "metadata": {
        "colab": {
          "base_uri": "https://localhost:8080/"
        },
        "id": "qXGVLLTfooYu",
        "outputId": "5dbfc192-c9cc-43b5-ddc9-c10215ba3cdb"
      },
      "execution_count": null,
      "outputs": [
        {
          "output_type": "stream",
          "name": "stdout",
          "text": [
            "Found 150 images belonging to 16 classes.\n",
            "Found 157 images belonging to 16 classes.\n"
          ]
        }
      ]
    },
    {
      "cell_type": "code",
      "source": [
        "train.class_indices"
      ],
      "metadata": {
        "colab": {
          "base_uri": "https://localhost:8080/"
        },
        "id": "Z95D7Wl6pgDT",
        "outputId": "d401c225-9346-44a4-b9f8-1a5c57a36226"
      },
      "execution_count": null,
      "outputs": [
        {
          "output_type": "execute_result",
          "data": {
            "text/plain": [
              "{'blasti': 0,\n",
              " 'bonegl': 1,\n",
              " 'brhkyt': 2,\n",
              " 'cbrtsh': 3,\n",
              " 'cmnmyn': 4,\n",
              " 'gretit': 5,\n",
              " 'hilpig': 6,\n",
              " 'himbul': 7,\n",
              " 'himgri': 8,\n",
              " 'hsparo': 9,\n",
              " 'indvul': 10,\n",
              " 'jglowl': 11,\n",
              " 'lbicrw': 12,\n",
              " 'mgprob': 13,\n",
              " 'rebimg': 14,\n",
              " 'wcrsrt': 15}"
            ]
          },
          "metadata": {},
          "execution_count": 11
        }
      ]
    },
    {
      "cell_type": "code",
      "source": [
        "import numpy as np\n",
        "from PIL import Image as im\n",
        "import matplotlib.pyplot as plt\n",
        "\n",
        "train[0][1]"
      ],
      "metadata": {
        "colab": {
          "base_uri": "https://localhost:8080/"
        },
        "id": "CSQdgszR71AO",
        "outputId": "ad13bd4b-638d-43de-95e7-b85b5988631e"
      },
      "execution_count": null,
      "outputs": [
        {
          "output_type": "execute_result",
          "data": {
            "text/plain": [
              "array([[0., 0., 0., 0., 0., 0., 1., 0., 0., 0., 0., 0., 0., 0., 0., 0.],\n",
              "       [1., 0., 0., 0., 0., 0., 0., 0., 0., 0., 0., 0., 0., 0., 0., 0.],\n",
              "       [0., 0., 0., 0., 0., 0., 1., 0., 0., 0., 0., 0., 0., 0., 0., 0.],\n",
              "       [0., 1., 0., 0., 0., 0., 0., 0., 0., 0., 0., 0., 0., 0., 0., 0.],\n",
              "       [0., 0., 1., 0., 0., 0., 0., 0., 0., 0., 0., 0., 0., 0., 0., 0.],\n",
              "       [0., 0., 0., 0., 0., 0., 0., 1., 0., 0., 0., 0., 0., 0., 0., 0.],\n",
              "       [0., 0., 0., 0., 0., 0., 0., 0., 1., 0., 0., 0., 0., 0., 0., 0.],\n",
              "       [0., 0., 0., 0., 0., 0., 0., 0., 1., 0., 0., 0., 0., 0., 0., 0.],\n",
              "       [0., 0., 0., 0., 0., 0., 0., 0., 1., 0., 0., 0., 0., 0., 0., 0.],\n",
              "       [0., 0., 0., 0., 0., 0., 0., 0., 0., 0., 0., 0., 0., 1., 0., 0.]],\n",
              "      dtype=float32)"
            ]
          },
          "metadata": {},
          "execution_count": 12
        }
      ]
    },
    {
      "cell_type": "code",
      "source": [
        "len(train[0][0][0])"
      ],
      "metadata": {
        "colab": {
          "base_uri": "https://localhost:8080/"
        },
        "id": "UkC1AU6ggqK5",
        "outputId": "add04207-0786-4813-97fc-2d1c7ae0c071"
      },
      "execution_count": null,
      "outputs": [
        {
          "output_type": "execute_result",
          "data": {
            "text/plain": [
              "512"
            ]
          },
          "metadata": {},
          "execution_count": 13
        }
      ]
    },
    {
      "cell_type": "code",
      "source": [
        "# CNN\n",
        "\n",
        "from tensorflow.keras.layers import Convolution2D,MaxPooling2D,Flatten,Dense\n",
        "from tensorflow.keras.models import Sequential"
      ],
      "metadata": {
        "id": "eOSpjo_npllE"
      },
      "execution_count": null,
      "outputs": []
    },
    {
      "cell_type": "code",
      "source": [
        "model = Sequential()\n",
        "model.add(Convolution2D(64,(3,3),activation='relu',input_shape=(512, 512, 3)))\n",
        "model.add(MaxPooling2D(pool_size=(2,2)))\n",
        "model.add(Convolution2D(32,(3,3),activation='relu',))\n",
        "model.add(MaxPooling2D(pool_size=(2,2)))\n",
        "model.add(Convolution2D(24,(3,3),activation='relu',))\n",
        "model.add(MaxPooling2D(pool_size=(2,2)))\n",
        "model.add(Flatten())\n",
        "model.add(Dense(45,activation='relu'))\n",
        "model.add(Dense(30,activation='relu'))\n",
        "model.add(Dense(16,activation='softmax'))"
      ],
      "metadata": {
        "id": "tjn-YKUYqOFl"
      },
      "execution_count": null,
      "outputs": []
    },
    {
      "cell_type": "code",
      "source": [
        "model.compile(optimizer='adam',loss='categorical_crossentropy',metrics=['accuracy'])"
      ],
      "metadata": {
        "id": "s0TzMv2YqX6K"
      },
      "execution_count": null,
      "outputs": []
    },
    {
      "cell_type": "code",
      "source": [
        "model.fit(train,batch_size=10,validation_data=test,epochs=20)"
      ],
      "metadata": {
        "colab": {
          "base_uri": "https://localhost:8080/"
        },
        "id": "BqN9L_xWqdUP",
        "outputId": "8d589458-c5b4-41da-f50a-00ff864e2a80"
      },
      "execution_count": null,
      "outputs": [
        {
          "output_type": "stream",
          "name": "stdout",
          "text": [
            "Epoch 1/20\n",
            "15/15 [==============================] - 103s 7s/step - loss: 2.8867 - accuracy: 0.0867 - val_loss: 2.7525 - val_accuracy: 0.1274\n",
            "Epoch 2/20\n",
            "15/15 [==============================] - 124s 9s/step - loss: 2.6312 - accuracy: 0.1933 - val_loss: 2.7542 - val_accuracy: 0.1083\n",
            "Epoch 3/20\n",
            "15/15 [==============================] - 126s 9s/step - loss: 2.5572 - accuracy: 0.1867 - val_loss: 2.7602 - val_accuracy: 0.1083\n",
            "Epoch 4/20\n",
            "15/15 [==============================] - 92s 6s/step - loss: 2.4648 - accuracy: 0.2133 - val_loss: 2.8331 - val_accuracy: 0.1847\n",
            "Epoch 5/20\n",
            "15/15 [==============================] - 94s 6s/step - loss: 2.4062 - accuracy: 0.3067 - val_loss: 2.8651 - val_accuracy: 0.1338\n",
            "Epoch 6/20\n",
            "15/15 [==============================] - 92s 6s/step - loss: 2.3740 - accuracy: 0.2467 - val_loss: 2.7813 - val_accuracy: 0.1720\n",
            "Epoch 7/20\n",
            "15/15 [==============================] - 92s 6s/step - loss: 2.2990 - accuracy: 0.2667 - val_loss: 3.5664 - val_accuracy: 0.1210\n",
            "Epoch 8/20\n",
            "15/15 [==============================] - 92s 6s/step - loss: 2.2103 - accuracy: 0.3133 - val_loss: 2.9779 - val_accuracy: 0.1847\n",
            "Epoch 9/20\n",
            "15/15 [==============================] - 91s 6s/step - loss: 2.1007 - accuracy: 0.3067 - val_loss: 2.9724 - val_accuracy: 0.2038\n",
            "Epoch 10/20\n",
            "15/15 [==============================] - 93s 6s/step - loss: 1.9943 - accuracy: 0.3667 - val_loss: 3.5568 - val_accuracy: 0.1210\n",
            "Epoch 11/20\n",
            "15/15 [==============================] - 93s 6s/step - loss: 2.1525 - accuracy: 0.3000 - val_loss: 2.7970 - val_accuracy: 0.1338\n",
            "Epoch 12/20\n",
            "15/15 [==============================] - 125s 9s/step - loss: 1.9482 - accuracy: 0.4000 - val_loss: 2.9598 - val_accuracy: 0.1975\n",
            "Epoch 13/20\n",
            "15/15 [==============================] - 92s 6s/step - loss: 1.8856 - accuracy: 0.4067 - val_loss: 4.4956 - val_accuracy: 0.2102\n",
            "Epoch 14/20\n",
            "15/15 [==============================] - 94s 6s/step - loss: 2.0696 - accuracy: 0.3600 - val_loss: 2.7257 - val_accuracy: 0.2994\n",
            "Epoch 15/20\n",
            "15/15 [==============================] - 91s 6s/step - loss: 1.7570 - accuracy: 0.4600 - val_loss: 3.1442 - val_accuracy: 0.2038\n",
            "Epoch 16/20\n",
            "15/15 [==============================] - 93s 7s/step - loss: 1.6977 - accuracy: 0.4533 - val_loss: 2.9340 - val_accuracy: 0.2611\n",
            "Epoch 17/20\n",
            "15/15 [==============================] - 92s 6s/step - loss: 1.4430 - accuracy: 0.5200 - val_loss: 3.4742 - val_accuracy: 0.2548\n",
            "Epoch 18/20\n",
            "15/15 [==============================] - 91s 6s/step - loss: 1.3132 - accuracy: 0.5933 - val_loss: 3.3882 - val_accuracy: 0.1720\n",
            "Epoch 19/20\n",
            "15/15 [==============================] - 93s 7s/step - loss: 1.4737 - accuracy: 0.5200 - val_loss: 3.0416 - val_accuracy: 0.2229\n",
            "Epoch 20/20\n",
            "15/15 [==============================] - 92s 6s/step - loss: 1.3875 - accuracy: 0.5400 - val_loss: 3.2098 - val_accuracy: 0.2866\n"
          ]
        },
        {
          "output_type": "execute_result",
          "data": {
            "text/plain": [
              "<keras.callbacks.History at 0x7f9f78245c30>"
            ]
          },
          "metadata": {},
          "execution_count": 17
        }
      ]
    },
    {
      "cell_type": "code",
      "source": [
        "model.summary()"
      ],
      "metadata": {
        "colab": {
          "base_uri": "https://localhost:8080/"
        },
        "id": "fY9smOCA433k",
        "outputId": "71cd2f25-1aa7-4f58-810a-b35ff4874d48"
      },
      "execution_count": null,
      "outputs": [
        {
          "output_type": "stream",
          "name": "stdout",
          "text": [
            "Model: \"sequential\"\n",
            "_________________________________________________________________\n",
            " Layer (type)                Output Shape              Param #   \n",
            "=================================================================\n",
            " conv2d (Conv2D)             (None, 510, 510, 64)      1792      \n",
            "                                                                 \n",
            " max_pooling2d (MaxPooling2D  (None, 255, 255, 64)     0         \n",
            " )                                                               \n",
            "                                                                 \n",
            " conv2d_1 (Conv2D)           (None, 253, 253, 32)      18464     \n",
            "                                                                 \n",
            " max_pooling2d_1 (MaxPooling  (None, 126, 126, 32)     0         \n",
            " 2D)                                                             \n",
            "                                                                 \n",
            " conv2d_2 (Conv2D)           (None, 124, 124, 24)      6936      \n",
            "                                                                 \n",
            " max_pooling2d_2 (MaxPooling  (None, 62, 62, 24)       0         \n",
            " 2D)                                                             \n",
            "                                                                 \n",
            " flatten (Flatten)           (None, 92256)             0         \n",
            "                                                                 \n",
            " dense (Dense)               (None, 45)                4151565   \n",
            "                                                                 \n",
            " dense_1 (Dense)             (None, 30)                1380      \n",
            "                                                                 \n",
            " dense_2 (Dense)             (None, 16)                496       \n",
            "                                                                 \n",
            "=================================================================\n",
            "Total params: 4,180,633\n",
            "Trainable params: 4,180,633\n",
            "Non-trainable params: 0\n",
            "_________________________________________________________________\n"
          ]
        }
      ]
    },
    {
      "cell_type": "code",
      "source": [
        "model.save('birdWeights.h5')"
      ],
      "metadata": {
        "id": "sVxUc6EMzeqV"
      },
      "execution_count": null,
      "outputs": []
    },
    {
      "cell_type": "code",
      "source": [
        "# Testing\n",
        "\n",
        "import numpy as np\n",
        "from tensorflow.keras.preprocessing import image\n",
        "\n",
        "img1 = image.load_img('/content/test_data/test_data/brhkyt/D72_0479.jpg',target_size=(512,512))\n",
        "img1 = image.img_to_array(img1)\n",
        "img1 = np.expand_dims(img1,axis=0)\n",
        "pred = np.argmax(model.predict(img1))\n",
        "print(pred)"
      ],
      "metadata": {
        "colab": {
          "base_uri": "https://localhost:8080/"
        },
        "id": "8VAnONYM5HFD",
        "outputId": "43d8bfe1-2ef8-4b9d-be18-65f4e818f04e"
      },
      "execution_count": null,
      "outputs": [
        {
          "output_type": "stream",
          "name": "stdout",
          "text": [
            "1/1 [==============================] - 0s 330ms/step\n",
            "2\n"
          ]
        }
      ]
    },
    {
      "cell_type": "code",
      "source": [
        "test.class_indices"
      ],
      "metadata": {
        "colab": {
          "base_uri": "https://localhost:8080/"
        },
        "id": "JPEaRM-16pbp",
        "outputId": "3b442ceb-0bde-4d3a-ad0d-1d235d0e75c3"
      },
      "execution_count": null,
      "outputs": [
        {
          "output_type": "execute_result",
          "data": {
            "text/plain": [
              "{'blasti': 0,\n",
              " 'bonegl': 1,\n",
              " 'brhkyt': 2,\n",
              " 'cbrtsh': 3,\n",
              " 'cmnmyn': 4,\n",
              " 'gretit': 5,\n",
              " 'hilpig': 6,\n",
              " 'himbul': 7,\n",
              " 'himgri': 8,\n",
              " 'hsparo': 9,\n",
              " 'indvul': 10,\n",
              " 'jglowl': 11,\n",
              " 'lbicrw': 12,\n",
              " 'mgprob': 13,\n",
              " 'rebimg': 14,\n",
              " 'wcrsrt': 15}"
            ]
          },
          "metadata": {},
          "execution_count": 21
        }
      ]
    },
    {
      "cell_type": "markdown",
      "source": [
        "#Using VGG16"
      ],
      "metadata": {
        "id": "eAP4JZF3Nl41"
      }
    },
    {
      "cell_type": "code",
      "source": [
        "trainVGG = train_generator.flow_from_directory('/content/train_data/train_data',\n",
        "                                      target_size=(224, 224),\n",
        "                                      class_mode='categorical',\n",
        "                                      batch_size=10)\n",
        "testVGG = test_generator.flow_from_directory('/content/test_data/test_data',\n",
        "                                    target_size=(224, 224),\n",
        "                                      class_mode='categorical',\n",
        "                                      batch_size=10)"
      ],
      "metadata": {
        "colab": {
          "base_uri": "https://localhost:8080/"
        },
        "id": "oxJ-ux4NNqKA",
        "outputId": "3e97289e-0744-4755-9654-86962fc57745"
      },
      "execution_count": null,
      "outputs": [
        {
          "output_type": "stream",
          "name": "stdout",
          "text": [
            "Found 150 images belonging to 16 classes.\n",
            "Found 157 images belonging to 16 classes.\n"
          ]
        }
      ]
    },
    {
      "cell_type": "code",
      "source": [
        "from tensorflow.keras.applications.vgg16 import VGG16, preprocess_input\n",
        "from tensorflow.keras.layers import Dense,Flatten,Input\n",
        "from tensorflow.keras.models import Model\n",
        "from tensorflow.keras.preprocessing import image\n",
        "from tensorflow.keras.preprocessing.image import ImageDataGenerator, load_img\n",
        "import numpy as np"
      ],
      "metadata": {
        "id": "mIeIg15PN95U"
      },
      "execution_count": null,
      "outputs": []
    },
    {
      "cell_type": "code",
      "source": [
        "vgg = VGG16(include_top=False,weights='imagenet',input_shape=(224,224,3))"
      ],
      "metadata": {
        "id": "1SqByamcOJ7r"
      },
      "execution_count": null,
      "outputs": []
    },
    {
      "cell_type": "code",
      "source": [
        "for layer in vgg.layers:\n",
        "  layer.trainable=False"
      ],
      "metadata": {
        "id": "iMNclSAiOOPj"
      },
      "execution_count": null,
      "outputs": []
    },
    {
      "cell_type": "code",
      "source": [
        "x = Flatten()(vgg.output)"
      ],
      "metadata": {
        "id": "Qylvl2KlOTuB"
      },
      "execution_count": null,
      "outputs": []
    },
    {
      "cell_type": "code",
      "source": [
        "prediction = Dense(16,activation='softmax')(x)"
      ],
      "metadata": {
        "id": "QmLrvvPNOro8"
      },
      "execution_count": null,
      "outputs": []
    },
    {
      "cell_type": "code",
      "source": [
        "model1 = Model(inputs=vgg.input,outputs=prediction)"
      ],
      "metadata": {
        "id": "q9YjmkkTOt0E"
      },
      "execution_count": null,
      "outputs": []
    },
    {
      "cell_type": "code",
      "source": [
        "model1.summary()"
      ],
      "metadata": {
        "colab": {
          "base_uri": "https://localhost:8080/"
        },
        "id": "HP2-df-IOyWt",
        "outputId": "15248741-9ec3-45df-8e29-ffeaacd4a45c"
      },
      "execution_count": null,
      "outputs": [
        {
          "output_type": "stream",
          "name": "stdout",
          "text": [
            "Model: \"model_1\"\n",
            "_________________________________________________________________\n",
            " Layer (type)                Output Shape              Param #   \n",
            "=================================================================\n",
            " input_1 (InputLayer)        [(None, 224, 224, 3)]     0         \n",
            "                                                                 \n",
            " block1_conv1 (Conv2D)       (None, 224, 224, 64)      1792      \n",
            "                                                                 \n",
            " block1_conv2 (Conv2D)       (None, 224, 224, 64)      36928     \n",
            "                                                                 \n",
            " block1_pool (MaxPooling2D)  (None, 112, 112, 64)      0         \n",
            "                                                                 \n",
            " block2_conv1 (Conv2D)       (None, 112, 112, 128)     73856     \n",
            "                                                                 \n",
            " block2_conv2 (Conv2D)       (None, 112, 112, 128)     147584    \n",
            "                                                                 \n",
            " block2_pool (MaxPooling2D)  (None, 56, 56, 128)       0         \n",
            "                                                                 \n",
            " block3_conv1 (Conv2D)       (None, 56, 56, 256)       295168    \n",
            "                                                                 \n",
            " block3_conv2 (Conv2D)       (None, 56, 56, 256)       590080    \n",
            "                                                                 \n",
            " block3_conv3 (Conv2D)       (None, 56, 56, 256)       590080    \n",
            "                                                                 \n",
            " block3_pool (MaxPooling2D)  (None, 28, 28, 256)       0         \n",
            "                                                                 \n",
            " block4_conv1 (Conv2D)       (None, 28, 28, 512)       1180160   \n",
            "                                                                 \n",
            " block4_conv2 (Conv2D)       (None, 28, 28, 512)       2359808   \n",
            "                                                                 \n",
            " block4_conv3 (Conv2D)       (None, 28, 28, 512)       2359808   \n",
            "                                                                 \n",
            " block4_pool (MaxPooling2D)  (None, 14, 14, 512)       0         \n",
            "                                                                 \n",
            " block5_conv1 (Conv2D)       (None, 14, 14, 512)       2359808   \n",
            "                                                                 \n",
            " block5_conv2 (Conv2D)       (None, 14, 14, 512)       2359808   \n",
            "                                                                 \n",
            " block5_conv3 (Conv2D)       (None, 14, 14, 512)       2359808   \n",
            "                                                                 \n",
            " block5_pool (MaxPooling2D)  (None, 7, 7, 512)         0         \n",
            "                                                                 \n",
            " flatten_1 (Flatten)         (None, 25088)             0         \n",
            "                                                                 \n",
            " dense_3 (Dense)             (None, 16)                401424    \n",
            "                                                                 \n",
            "=================================================================\n",
            "Total params: 15,116,112\n",
            "Trainable params: 401,424\n",
            "Non-trainable params: 14,714,688\n",
            "_________________________________________________________________\n"
          ]
        }
      ]
    },
    {
      "cell_type": "code",
      "source": [
        "model1.compile(loss='categorical_crossentropy',\n",
        "              optimizer='adam',\n",
        "              metrics=['accuracy'])"
      ],
      "metadata": {
        "id": "SCt6YzXbO9BP"
      },
      "execution_count": null,
      "outputs": []
    },
    {
      "cell_type": "code",
      "source": [
        "model1.fit_generator(trainVGG,\n",
        "                    validation_data=testVGG,\n",
        "                    epochs=20,\n",
        "                    steps_per_epoch=len(trainVGG),\n",
        "                    validation_steps=len(testVGG))"
      ],
      "metadata": {
        "colab": {
          "base_uri": "https://localhost:8080/"
        },
        "id": "PdgbRn62PALA",
        "outputId": "6eee6055-b146-4ac3-c545-1b5da3710d1d"
      },
      "execution_count": null,
      "outputs": [
        {
          "output_type": "stream",
          "name": "stderr",
          "text": [
            "<ipython-input-36-2634b7958dbc>:1: UserWarning: `Model.fit_generator` is deprecated and will be removed in a future version. Please use `Model.fit`, which supports generators.\n",
            "  model1.fit_generator(trainVGG,\n"
          ]
        },
        {
          "output_type": "stream",
          "name": "stdout",
          "text": [
            "Epoch 1/20\n",
            "15/15 [==============================] - 89s 6s/step - loss: 0.3612 - accuracy: 0.8867 - val_loss: 4.2111 - val_accuracy: 0.3822\n",
            "Epoch 2/20\n",
            "15/15 [==============================] - 86s 6s/step - loss: 0.3293 - accuracy: 0.8867 - val_loss: 4.8701 - val_accuracy: 0.3121\n",
            "Epoch 3/20\n",
            "15/15 [==============================] - 86s 6s/step - loss: 0.2674 - accuracy: 0.9067 - val_loss: 4.7122 - val_accuracy: 0.3694\n",
            "Epoch 4/20\n",
            "15/15 [==============================] - 85s 6s/step - loss: 0.1807 - accuracy: 0.9533 - val_loss: 4.3036 - val_accuracy: 0.4268\n",
            "Epoch 5/20\n",
            "15/15 [==============================] - 86s 6s/step - loss: 0.0682 - accuracy: 0.9800 - val_loss: 5.0208 - val_accuracy: 0.3758\n",
            "Epoch 6/20\n",
            "15/15 [==============================] - 86s 6s/step - loss: 0.1092 - accuracy: 0.9533 - val_loss: 4.6528 - val_accuracy: 0.4013\n",
            "Epoch 7/20\n",
            "15/15 [==============================] - 84s 6s/step - loss: 0.0960 - accuracy: 0.9533 - val_loss: 4.7618 - val_accuracy: 0.3631\n",
            "Epoch 8/20\n",
            "15/15 [==============================] - 119s 8s/step - loss: 0.1265 - accuracy: 0.9667 - val_loss: 5.4231 - val_accuracy: 0.4013\n",
            "Epoch 9/20\n",
            "15/15 [==============================] - 118s 8s/step - loss: 0.1382 - accuracy: 0.9467 - val_loss: 4.8065 - val_accuracy: 0.4076\n",
            "Epoch 10/20\n",
            "15/15 [==============================] - 85s 6s/step - loss: 0.0949 - accuracy: 0.9667 - val_loss: 5.2971 - val_accuracy: 0.3694\n",
            "Epoch 11/20\n",
            "15/15 [==============================] - 85s 6s/step - loss: 0.0832 - accuracy: 0.9733 - val_loss: 4.6604 - val_accuracy: 0.4395\n",
            "Epoch 12/20\n",
            "15/15 [==============================] - 85s 6s/step - loss: 0.0365 - accuracy: 0.9867 - val_loss: 5.0211 - val_accuracy: 0.3885\n",
            "Epoch 13/20\n",
            "15/15 [==============================] - 84s 6s/step - loss: 0.0294 - accuracy: 0.9933 - val_loss: 5.0352 - val_accuracy: 0.4268\n",
            "Epoch 14/20\n",
            "15/15 [==============================] - 85s 6s/step - loss: 0.0167 - accuracy: 0.9933 - val_loss: 5.1602 - val_accuracy: 0.4140\n",
            "Epoch 15/20\n",
            "15/15 [==============================] - 119s 8s/step - loss: 0.0123 - accuracy: 0.9933 - val_loss: 4.9208 - val_accuracy: 0.4331\n",
            "Epoch 16/20\n",
            "15/15 [==============================] - 119s 8s/step - loss: 0.0116 - accuracy: 1.0000 - val_loss: 4.9663 - val_accuracy: 0.3758\n",
            "Epoch 17/20\n",
            "15/15 [==============================] - 86s 6s/step - loss: 0.0322 - accuracy: 0.9933 - val_loss: 4.9962 - val_accuracy: 0.4331\n",
            "Epoch 18/20\n",
            "15/15 [==============================] - 86s 6s/step - loss: 0.0507 - accuracy: 0.9867 - val_loss: 5.1678 - val_accuracy: 0.4522\n",
            "Epoch 19/20\n",
            "15/15 [==============================] - 86s 6s/step - loss: 0.0172 - accuracy: 1.0000 - val_loss: 4.9709 - val_accuracy: 0.4076\n",
            "Epoch 20/20\n",
            "15/15 [==============================] - 84s 6s/step - loss: 0.0160 - accuracy: 0.9933 - val_loss: 4.9678 - val_accuracy: 0.4076\n"
          ]
        },
        {
          "output_type": "execute_result",
          "data": {
            "text/plain": [
              "<keras.callbacks.History at 0x7f9ee6f8b490>"
            ]
          },
          "metadata": {},
          "execution_count": 36
        }
      ]
    }
  ]
}