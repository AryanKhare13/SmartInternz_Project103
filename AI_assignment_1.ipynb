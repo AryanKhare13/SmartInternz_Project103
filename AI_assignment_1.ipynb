{
  "nbformat": 4,
  "nbformat_minor": 0,
  "metadata": {
    "colab": {
      "provenance": []
    },
    "kernelspec": {
      "name": "python3",
      "display_name": "Python 3"
    },
    "language_info": {
      "name": "python"
    }
  },
  "cells": [
    {
      "cell_type": "code",
      "execution_count": null,
      "metadata": {
        "colab": {
          "base_uri": "https://localhost:8080/"
        },
        "id": "9b0P-BDMyY7h",
        "outputId": "4f6b6ee7-79dc-4bce-a92d-5aa2aebca6fb"
      },
      "outputs": [
        {
          "output_type": "stream",
          "name": "stdout",
          "text": [
            "Task 1: DataFrame 'df' with random values:\n",
            "   Random value 1  Random value 2  Random value 3  Random value 4\n",
            "0        0.304242        0.524756        0.431945        0.291229\n",
            "1        0.611853        0.139494        0.292145        0.366362\n",
            "2        0.456070        0.785176        0.199674        0.514234\n",
            "3        0.592415        0.046450        0.607545        0.170524\n",
            "\n",
            "Task 2: Renamed column names:\n",
            "Index(['Random value 1', 'Random value 2', 'Random value 3', 'Random value 4'], dtype='object')\n",
            "\n",
            "Task 3: Descriptive statistics:\n",
            "       Random value 1  Random value 2  Random value 3  Random value 4\n",
            "count        4.000000        4.000000        4.000000        4.000000\n",
            "mean         0.491145        0.373969        0.382827        0.335587\n",
            "std          0.142582        0.343548        0.177650        0.143846\n",
            "min          0.304242        0.046450        0.199674        0.170524\n",
            "25%          0.418113        0.116233        0.269027        0.261053\n",
            "50%          0.524242        0.332125        0.362045        0.328795\n",
            "75%          0.597274        0.589861        0.475845        0.403330\n",
            "max          0.611853        0.785176        0.607545        0.514234\n",
            "\n",
            "Task 4: Null values and data types:\n",
            "Null values:\n",
            "Random value 1    0\n",
            "Random value 2    0\n",
            "Random value 3    0\n",
            "Random value 4    0\n",
            "dtype: int64\n",
            "\n",
            "Data types:\n",
            "Random value 1    float64\n",
            "Random value 2    float64\n",
            "Random value 3    float64\n",
            "Random value 4    float64\n",
            "dtype: object\n",
            "\n",
            "Task 5: 'Random value 2' & 'Random value 3' columns using loc method:\n",
            "0    0.524756\n",
            "1    0.139494\n",
            "2    0.785176\n",
            "3    0.046450\n",
            "Name: Random value 2, dtype: float64\n",
            "0    0.431945\n",
            "1    0.292145\n",
            "2    0.199674\n",
            "3    0.607545\n",
            "Name: Random value 3, dtype: float64\n",
            "\n",
            "'Random value 2' & 'Random value 3' columns using index location method:\n",
            "0    0.524756\n",
            "1    0.139494\n",
            "2    0.785176\n",
            "3    0.046450\n",
            "Name: Random value 2, dtype: float64\n",
            "0    0.431945\n",
            "1    0.292145\n",
            "2    0.199674\n",
            "3    0.607545\n",
            "Name: Random value 3, dtype: float64\n"
          ]
        }
      ],
      "source": [
        "import pandas as pd\n",
        "import numpy as np\n",
        "\n",
        "# Task 1\n",
        "data = np.random.rand(4, 4)\n",
        "df = pd.DataFrame(data)\n",
        "\n",
        "# Task 2\n",
        "df.columns = ['Random value 1', 'Random value 2', 'Random value 3', 'Random value 4']\n",
        "\n",
        "# Task 3\n",
        "statistics = df.describe()\n",
        "\n",
        "# Task 4\n",
        "null_values = df.isnull().sum()\n",
        "data_types = df.dtypes\n",
        "\n",
        "# Task 5\n",
        "random_value_2_loc = df.loc[:, 'Random value 2']\n",
        "random_value_3_loc = df.loc[:, 'Random value 3']\n",
        "random_value_2_idx = df.iloc[:, 1]\n",
        "random_value_3_idx = df.iloc[:, 2]\n",
        "\n",
        "# Print the outputs\n",
        "print(\"Task 1: DataFrame 'df' with random values:\")\n",
        "print(df)\n",
        "print(\"\\nTask 2: Renamed column names:\")\n",
        "print(df.columns)\n",
        "print(\"\\nTask 3: Descriptive statistics:\")\n",
        "print(statistics)\n",
        "print(\"\\nTask 4: Null values and data types:\")\n",
        "print(\"Null values:\")\n",
        "print(null_values)\n",
        "print(\"\\nData types:\")\n",
        "print(data_types)\n",
        "print(\"\\nTask 5: 'Random value 2' & 'Random value 3' columns using loc method:\")\n",
        "print(random_value_2_loc)\n",
        "print(random_value_3_loc)\n",
        "print(\"\\n'Random value 2' & 'Random value 3' columns using index location method:\")\n",
        "print(random_value_2_idx)\n",
        "print(random_value_3_idx)\n"
      ]
    }
  ]
}